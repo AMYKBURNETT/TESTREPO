{
  "metadata": {
    "language_info": {
      "codemirror_mode": {
        "name": "python",
        "version": 3
      },
      "file_extension": ".py",
      "mimetype": "text/x-python",
      "name": "python",
      "nbconvert_exporter": "python",
      "pygments_lexer": "ipython3",
      "version": "3.8"
    },
    "kernelspec": {
      "name": "python",
      "display_name": "Pyolite",
      "language": "python"
    }
  },
  "nbformat_minor": 4,
  "nbformat": 4,
  "cells": [
    {
      "cell_type": "markdown",
      "source": "# My Jupyter Notebook on IBM Watson Studio",
      "metadata": {}
    },
    {
      "cell_type": "markdown",
      "source": "**Amy Burnett**\n\nData Analyst",
      "metadata": {}
    },
    {
      "cell_type": "markdown",
      "source": "_I am interested in Data Science because I love working with data and problem solving_",
      "metadata": {}
    },
    {
      "cell_type": "markdown",
      "source": "### The code will print \"Sure Thing!\"",
      "metadata": {}
    },
    {
      "cell_type": "code",
      "source": "print(\"Sure Thing!\")",
      "metadata": {
        "trusted": true
      },
      "execution_count": 1,
      "outputs": [
        {
          "name": "stdout",
          "text": "Sure Thing!\n",
          "output_type": "stream"
        }
      ]
    },
    {
      "cell_type": "markdown",
      "source": "***\n\nBulleted list of Things I like: \n- DATA \n- ANALYTICS \n- CATS\n\n[hyperlink](https://www.coursera.org/learn/open-source-tools-for-data-science/ungradedWidget/CeWYX/hands-on-lab-jupyter-notebook-advanced-features)\n\nNumbered list of names of my Cats:\n1. Jackson\n2. Havana\n",
      "metadata": {}
    }
  ]
}